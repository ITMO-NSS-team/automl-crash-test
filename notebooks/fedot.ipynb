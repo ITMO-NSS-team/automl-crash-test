{
 "cells": [
  {
   "cell_type": "markdown",
   "id": "71887284-c9c3-4a8a-9096-ac5a4b6c221c",
   "metadata": {},
   "source": [
    "# Launch FEDOT"
   ]
  },
  {
   "cell_type": "code",
   "execution_count": null,
   "id": "cedacaf8-cd85-461b-91da-50131479b5e7",
   "metadata": {},
   "outputs": [],
   "source": [
    "pip install fedot==0.5.2"
   ]
  },
  {
   "cell_type": "code",
   "execution_count": 15,
   "id": "7d609ce0-84d5-4e92-8a54-4ad92cc3eae1",
   "metadata": {},
   "outputs": [],
   "source": [
    "from fedot.api.main import Fedot\n",
    "from sklearn.metrics import classification_report, roc_auc_score\n",
    "\n",
    "from data.data import get_train_data, get_test_data"
   ]
  },
  {
   "cell_type": "code",
   "execution_count": 16,
   "id": "439853cb-fab4-4bdf-b189-f19acb90300b",
   "metadata": {},
   "outputs": [
    {
     "data": {
      "text/plain": [
       "array([[0, nan, 1, 1, 1, 'monday', 'a ', 'true', 1, '0.1', 'a'],\n",
       "       [nan, 1, 2, 2, 0, 'tuesday', 'a', nan, 0, '1.3', inf],\n",
       "       [2, nan, 3, 3, nan, 3, 'b', 'false', 1, '?', 'c'],\n",
       "       [3, nan, 4, 4, 3.0, 4, '  a  ', 'true', 0, '1.3', '1'],\n",
       "       [4, nan, 5, 5.0, 0, 5, '   b ', nan, 0, '3.2', '2'],\n",
       "       [5, nan, 6, 6, 0, 6, '   c  ', 'false', 0, '8.0', '3'],\n",
       "       [6, inf, 7, 7, 0, 7, '    c  ', 'true', 1, '5.9', 'g'],\n",
       "       [7, inf, 8, 8, 1.0, 1, ' b   ', nan, 0, '4.9', 'h'],\n",
       "       [inf, inf, '9', '9', 2, 2, nan, 'true', 1, '2.0', 'i'],\n",
       "       [9, inf, '10', '10', 2, 3, ' a  ', 'false', 0, '1.3', 'j'],\n",
       "       [10, nan, 11.0, 11.0, 0, 4, 'a ', 'false', 0, '2.8', 'k'],\n",
       "       [11, nan, 12, 12, 2.0, 5, nan, 'false', 1, '3.2', 'l'],\n",
       "       [12, nan, 1, 1.0, 1.0, 6, ' c  ', 'false', 0, '11.1', 'm'],\n",
       "       [13, nan, 2, 2, 1, 7, ' c  ', 'true', nan, '12.5', 'n'],\n",
       "       [14, nan, 3, 3, 2.0, 1, 'b', 'false', nan, 'error', 'o'],\n",
       "       [15, nan, 4, 4, 1, 2, 'b  ', 'false', nan, '2.1', 'p'],\n",
       "       [16, nan, 5, 5, 0, 3, '   b       ', 'true', 1, '1.2', 'r'],\n",
       "       [17, 1, 6, 6, 0, 4, '  a      ', 'false', 0, '1.6', 's'],\n",
       "       [18, nan, 7, 7, 1, 5, ' b ', 'true', 1, '0.4', 'a'],\n",
       "       [19, nan, 8, 8, 1, 6, '  c ', 'false', 1, '5.1', 'c'],\n",
       "       [20, nan, 9, 9, 1, 'sunday', 'c ', 'false', 0, '5.5', 'a']],\n",
       "      dtype=object)"
      ]
     },
     "execution_count": 16,
     "metadata": {},
     "output_type": "execute_result"
    }
   ],
   "source": [
    "train_features, train_target = get_train_data()\n",
    "test_features, test_target = get_test_data()\n",
    "\n",
    "train_features"
   ]
  },
  {
   "cell_type": "code",
   "execution_count": 18,
   "id": "5b63e642-4d38-43c9-9f42-9afc2aa65966",
   "metadata": {
    "tags": []
   },
   "outputs": [
    {
     "name": "stdout",
     "output_type": "stream",
     "text": [
      "Feature column with index 4 contains following data types: [\"<class 'int'>\", \"<class 'str'>\"]. String cannot be converted into <class 'int'>. Drop column.\n"
     ]
    },
    {
     "name": "stderr",
     "output_type": "stream",
     "text": [
      "Generations:   1%|▌                                                             | 1/100 [00:00<?, ?gen/s]"
     ]
    },
    {
     "name": "stdout",
     "output_type": "stream",
     "text": [
      "Number of used CPU's: 1\n",
      "Number of used CPU's: 1\n"
     ]
    },
    {
     "name": "stderr",
     "output_type": "stream",
     "text": [
      "Generations:   1%|▌                                                             | 1/100 [00:14<?, ?gen/s]"
     ]
    },
    {
     "name": "stdout",
     "output_type": "stream",
     "text": [
      "Hyperparameters optimization start\n"
     ]
    },
    {
     "name": "stderr",
     "output_type": "stream",
     "text": [
      "\n"
     ]
    },
    {
     "name": "stdout",
     "output_type": "stream",
     "text": [
      "  4%|█▊                                            | 39/1000 [00:15<06:21,  2.52trial/s, best loss: -1.0]\n",
      "Hyperparameters optimization finished\n",
      "Return tuned pipeline due to the fact that obtained metric 1.000 equal or bigger than initial (- 5% deviation) 0.937\n"
     ]
    }
   ],
   "source": [
    "# Task selection, initialisation of the framework timeout in minutes \n",
    "fedot_model = Fedot(problem='classification', timeout=0.5)\n",
    "\n",
    "# Fit model\n",
    "obtained_pipeline = fedot_model.fit(features=train_features, target=train_target)\n",
    "\n",
    "# Evaluate the prediction with test data\n",
    "predict = fedot_model.predict(test_features)\n",
    "predict_probs = fedot_model.predict_proba(test_features)"
   ]
  },
  {
   "cell_type": "code",
   "execution_count": 19,
   "id": "5f7e3e00-5bac-4881-b028-e71da8180ebc",
   "metadata": {},
   "outputs": [
    {
     "data": {
      "image/png": "[encoded data removed]",
      "text/plain": [
       "<Figure size 648x648 with 1 Axes>"
      ]
     },
     "metadata": {},
     "output_type": "display_data"
    }
   ],
   "source": [
    "obtained_pipeline.show()"
   ]
  },
  {
   "cell_type": "code",
   "execution_count": 20,
   "id": "1be568e8-076b-4e04-b3fa-20cc27a84bad",
   "metadata": {},
   "outputs": [
    {
     "name": "stdout",
     "output_type": "stream",
     "text": [
      "              precision    recall  f1-score   support\n",
      "\n",
      "           0       1.00      1.00      1.00         4\n",
      "           1       1.00      1.00      1.00         1\n",
      "\n",
      "    accuracy                           1.00         5\n",
      "   macro avg       1.00      1.00      1.00         5\n",
      "weighted avg       1.00      1.00      1.00         5\n",
      "\n",
      "ROC AUC score: 1.000\n"
     ]
    }
   ],
   "source": [
    "print(classification_report(test_target, predict))\n",
    "\n",
    "roc_auc = roc_auc_score(test_target, predict_probs)\n",
    "print(f'ROC AUC score: {roc_auc:.3f}')"
   ]
  }
 ],
 "metadata": {
  "kernelspec": {
   "display_name": "Python 3 (ipykernel)",
   "language": "python",
   "name": "python3"
  },
  "language_info": {
   "codemirror_mode": {
    "name": "ipython",
    "version": 3
   },
   "file_extension": ".py",
   "mimetype": "text/x-python",
   "name": "python",
   "nbconvert_exporter": "python",
   "pygments_lexer": "ipython3",
   "version": "3.7.0"
  }
 },
 "nbformat": 4,
 "nbformat_minor": 5
}
